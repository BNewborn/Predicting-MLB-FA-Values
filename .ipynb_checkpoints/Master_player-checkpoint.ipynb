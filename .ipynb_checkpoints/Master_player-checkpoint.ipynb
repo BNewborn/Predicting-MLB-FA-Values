{
 "cells": [
  {
   "cell_type": "code",
   "execution_count": 1,
   "metadata": {},
   "outputs": [],
   "source": [
    "import pickle\n",
    "\n",
    "master_player = pickle.load( open( \"master_players.pkl\", \"rb\" ) )"
   ]
  },
  {
   "cell_type": "code",
   "execution_count": 9,
   "metadata": {},
   "outputs": [],
   "source": [
    "import pandas as pd\n",
    "import numpy as np\n",
    "import seaborn"
   ]
  },
  {
   "cell_type": "code",
   "execution_count": 10,
   "metadata": {},
   "outputs": [],
   "source": [
    "# master_player"
   ]
  },
  {
   "cell_type": "code",
   "execution_count": 25,
   "metadata": {},
   "outputs": [
    {
     "data": {
      "text/plain": [
       "0                                                     -\n",
       "1                                                     -\n",
       "2                                                     -\n",
       "3                                                   119\n",
       "4                                                   432\n",
       "5                                                   489\n",
       "6                                                   131\n",
       "7                                                    57\n",
       "8                                                    26\n",
       "9                                                     3\n",
       "10                                                   45\n",
       "11                                                   85\n",
       "12                                                  104\n",
       "13                                                   53\n",
       "14                                                    8\n",
       "15                                                  128\n",
       "16                                                    0\n",
       "17                                                    4\n",
       "18                                                    0\n",
       "19                                                   23\n",
       "20                                                    4\n",
       "21                                                    0\n",
       "22                                                 .303\n",
       "23    [-, -, -, 489, 10.8, 26.2, 0.41, .303, .376, ....\n",
       "24    [-, -, -, .327, 0.89, 18.5, 38.3, 43.2, 6.8, 3...\n",
       "25    [-, -, -, 2.87, -9.07, 11.93, 34.26, 3.22, 1.0...\n",
       "26    [-, -, -, 51.3, 92.9, 22.2, 84.7, 6.3, 88.9, 1...\n",
       "27    [-, -, -, 26.7, 1.6, 3.7, 4.0, -0.7, -0.2, -0....\n",
       "28    [-, -, -, 32.1, 76.4, 51.4, 54.1, 80.5, 71.2, ...\n",
       "29    [-, -, -, 40.9, -5.8, -8.2, -5.4, 35.1, -13.6,...\n",
       "30                                                 None\n",
       "Name: J.D. Martinez 2017, dtype: object"
      ]
     },
     "execution_count": 25,
     "metadata": {},
     "output_type": "execute_result"
    }
   ],
   "source": [
    "df1 = pd.DataFrame.from_dict(master_player, orient='index')\n",
    "df1.transpose()\n",
    "df1.loc[\"J.D. Martinez 2017\"]"
   ]
  },
  {
   "cell_type": "code",
   "execution_count": 26,
   "metadata": {},
   "outputs": [],
   "source": [
    "#Before cleaning, I'd think it's more valuable to join in Free Agents\n",
    "#Save me the trouble of cleaning random players we wont need\n",
    "# df1.loc[\"Eric Hosmer 2017\"] matches my ESPN Dataset! woo - so does JD Martinez\n",
    "\n",
    "import pickle\n",
    "\n",
    "with open('master_players_dataframe.pkl', 'wb') as picklefile:\n",
    "    pickle.dump(df1, picklefile)"
   ]
  },
  {
   "cell_type": "code",
   "execution_count": null,
   "metadata": {},
   "outputs": [],
   "source": [
    " "
   ]
  }
 ],
 "metadata": {
  "kernelspec": {
   "display_name": "Python 3",
   "language": "python",
   "name": "python3"
  },
  "language_info": {
   "codemirror_mode": {
    "name": "ipython",
    "version": 3
   },
   "file_extension": ".py",
   "mimetype": "text/x-python",
   "name": "python",
   "nbconvert_exporter": "python",
   "pygments_lexer": "ipython3",
   "version": "3.6.4"
  }
 },
 "nbformat": 4,
 "nbformat_minor": 2
}
