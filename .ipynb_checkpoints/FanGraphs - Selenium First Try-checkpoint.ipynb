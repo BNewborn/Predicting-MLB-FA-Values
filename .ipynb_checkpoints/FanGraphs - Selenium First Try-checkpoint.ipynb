{
 "cells": [
  {
   "cell_type": "code",
   "execution_count": null,
   "metadata": {},
   "outputs": [],
   "source": [
    "from selenium import webdriver\n",
    "from selenium.webdriver.common.keys import Keys\n",
    "import time\n",
    "\n",
    "import os\n",
    "chromedriver = \"/Users/brian_newborn/Downloads/chromedriver\" # path to the chromedriver executable\n",
    "os.environ[\"webdriver.chrome.driver\"] = chromedriver\n",
    "\n",
    "driver = webdriver.Chrome(chromedriver)\n",
    "url=\"https://www.fangraphs.com/leaders.aspx?pos=all&stats=bat&lg=all&qual=100&type=0&season=2017&month=0&season1=2017&ind=0&team=0&rost=0&age=0&filter=&players=0\"\n",
    "driver.get(url)\n"
   ]
  },
  {
   "cell_type": "code",
   "execution_count": null,
   "metadata": {},
   "outputs": [],
   "source": [
    "#Need to Save Column Names\n",
    "col_names_list = []\n",
    "\n",
    "identifier_header = \"rgHeader\"\n",
    "col_names = driver.find_elements_by_class_name(identifier_header)"
   ]
  },
  {
   "cell_type": "code",
   "execution_count": null,
   "metadata": {},
   "outputs": [],
   "source": [
    "for n in col_names:\n",
    "    col_names_list.append(n.text)\n",
    "    \n",
    "master_players={} #where we'll save all player info"
   ]
  },
  {
   "cell_type": "code",
   "execution_count": null,
   "metadata": {},
   "outputs": [],
   "source": [
    "# col_names_list"
   ]
  },
  {
   "cell_type": "code",
   "execution_count": null,
   "metadata": {},
   "outputs": [],
   "source": [
    "# #Now Saving Players\n",
    "# identifier1,identifier2 = \"rgRow\",\"rgAltRow\"\n",
    "\n",
    "# players = driver.find_elements_by_class_name(identifier2)\n",
    "# players2 = driver.find_elements_by_class_name(identifier1)"
   ]
  },
  {
   "cell_type": "code",
   "execution_count": null,
   "metadata": {},
   "outputs": [],
   "source": [
    "\n",
    "\n",
    "# for player in players:\n",
    "#     player = str(player.text)\n",
    "#     player = player.split(' ')\n",
    "#     master_players[player[1]+' '+player[2]]=player[3:]\n",
    "\n",
    "# for player in players2:\n",
    "#     player = str(player.text)\n",
    "#     player = player.split(' ')\n",
    "#     master_players[player[1]+' '+player[2]]=player[3:]"
   ]
  },
  {
   "cell_type": "code",
   "execution_count": null,
   "metadata": {},
   "outputs": [],
   "source": [
    "master_players\n",
    "len(master_players)\n",
    "#30"
   ]
  },
  {
   "cell_type": "code",
   "execution_count": null,
   "metadata": {},
   "outputs": [],
   "source": [
    "# #Let's Click to the Next Page\n",
    "# next_pg = driver.find_element_by_xpath('//a[@title=\"Next Page\"]')\n",
    "# next_pg.send_keys(u'\\ue007')  #sending enter key - clicking wont work with span on top of key\n",
    "# #wow! This works!"
   ]
  },
  {
   "cell_type": "code",
   "execution_count": null,
   "metadata": {},
   "outputs": [],
   "source": [
    "def next_pg():\n",
    "    #First, try next page button - we want all names within a section\n",
    "    try:\n",
    "        next_pg = driver.find_element_by_xpath('//a[@title=\"Next Page\"]')\n",
    "        next_pg.send_keys(u'\\ue007')\n",
    "    except: #End of Section, go to next section\n",
    "        next_section = driver.find_element_by_xpath('//a[@title=\"Next Page\"]')\n",
    "        print(\"End of Section\")\n",
    "        next_section= driver.find_elements_by_xpath\\\n",
    "        ('.//div[@class = \"rtsLevel rtsLevel1\"]//a[@class = \"rtsLink rtsAfter\"]')\n",
    "        next_section_sp = next_section[4]\n",
    "        next_section_sp.send_keys(u'\\ue007')\n",
    "        print(f\"Next Section: {next_section_sp.text}\")\n",
    "        \n",
    "\n",
    "def scrape_players():\n",
    "    identifier1,identifier2 = \"rgRow\",\"rgAltRow\"\n",
    "\n",
    "    players = driver.find_elements_by_class_name(identifier2)\n",
    "    players2 = driver.find_elements_by_class_name(identifier1)\n",
    "    \n",
    "\n",
    "    for player in players:\n",
    "        player = str(player.text)\n",
    "        player = player.split(' ')\n",
    "        name = player[1]+' '+player[2]\n",
    "    \n",
    "        if name in master_players:\n",
    "            master_players[name].append(player[3:])\n",
    "        else:\n",
    "            master_players[name]=player[3:]\n",
    "\n",
    "    for player in players2:\n",
    "        player = str(player.text)\n",
    "        player = player.split(' ')\n",
    "        name = player[1]+' '+player[2]\n",
    "\n",
    "        if name in master_players:\n",
    "            master_players[name].append(player[3:])\n",
    "        else:\n",
    "            master_players[name]=player[3:]\n"
   ]
  },
  {
   "cell_type": "code",
   "execution_count": null,
   "metadata": {},
   "outputs": [],
   "source": [
    "next_pg()\n",
    "scrape_players()\n",
    "len(master_players)"
   ]
  },
  {
   "cell_type": "code",
   "execution_count": null,
   "metadata": {},
   "outputs": [],
   "source": [
    "# next_section= driver.find_elements_by_xpath\\\n",
    "# ('.//div[@class = \"rtsLevel rtsLevel1\"]//a[@class = \"rtsLink rtsAfter\"]')\n",
    "# next_section_sp = next_section[4]\n",
    "# type(next_section_sp)\n",
    "# next_section_sp.send_keys(u'\\ue007')\n",
    "# # print(f\"Next Section: {next_section_sp.text}\")"
   ]
  },
  {
   "cell_type": "code",
   "execution_count": null,
   "metadata": {},
   "outputs": [],
   "source": [
    "# print(f\"Next Section: {next_section_sp.text}\")"
   ]
  },
  {
   "cell_type": "code",
   "execution_count": null,
   "metadata": {},
   "outputs": [],
   "source": [
    "master_players['Eric Hosmer']"
   ]
  },
  {
   "cell_type": "code",
   "execution_count": null,
   "metadata": {},
   "outputs": [],
   "source": []
  }
 ],
 "metadata": {
  "kernelspec": {
   "display_name": "Python 3",
   "language": "python",
   "name": "python3"
  },
  "language_info": {
   "codemirror_mode": {
    "name": "ipython",
    "version": 3
   },
   "file_extension": ".py",
   "mimetype": "text/x-python",
   "name": "python",
   "nbconvert_exporter": "python",
   "pygments_lexer": "ipython3",
   "version": "3.6.4"
  }
 },
 "nbformat": 4,
 "nbformat_minor": 2
}
