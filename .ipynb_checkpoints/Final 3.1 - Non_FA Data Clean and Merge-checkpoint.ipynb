{
 "cells": [
  {
   "cell_type": "code",
   "execution_count": 43,
   "metadata": {},
   "outputs": [
    {
     "data": {
      "text/plain": [
       "'\\nThis notebook combines the fangraphs advanced, value, and standard pages, and then merges this (inner join) on\\nthe ESPN free agent data. We then go through many of the columns and massage/clean our data\\n'"
      ]
     },
     "execution_count": 43,
     "metadata": {},
     "output_type": "execute_result"
    }
   ],
   "source": [
    "'''\n",
    "This notebook combines the fangraphs advanced, value, and standard pages, and then merges this (inner join) on\n",
    "the ESPN free agent data. We then go through many of the columns and massage/clean our data\n",
    "'''"
   ]
  },
  {
   "cell_type": "code",
   "execution_count": 44,
   "metadata": {},
   "outputs": [],
   "source": [
    "import pickle\n",
    "import pandas as pd\n",
    "import numpy as np\n",
    "import copy\n",
    "import seaborn as sns"
   ]
  },
  {
   "cell_type": "code",
   "execution_count": 45,
   "metadata": {},
   "outputs": [],
   "source": [
    "advanced_df = pickle.load( open( \"df_advanced.pkl\", \"rb\" ) )\n",
    "standard_df = pickle.load( open( \"df_standard.pkl\", \"rb\" ) )\n",
    "value_df = pickle.load( open( \"df_value.pkl\", \"rb\" ) )\n",
    "free_agents_df = pickle.load( open( \"free_agents_master.pkl\", \"rb\" ) )"
   ]
  },
  {
   "cell_type": "code",
   "execution_count": 46,
   "metadata": {},
   "outputs": [
    {
     "data": {
      "text/plain": [
       "PA       3567\n",
       "BB%      3567\n",
       "K%       3567\n",
       "BB/K     3567\n",
       "AVG      3567\n",
       "OBP      3567\n",
       "SLG      3567\n",
       "OPS      3567\n",
       "ISO      3567\n",
       "Spd      3567\n",
       "BABIP    3567\n",
       "UBR      3567\n",
       "wGDP     3567\n",
       "wSB      3567\n",
       "wRC      3567\n",
       "wRAA     3567\n",
       "wOBA     3567\n",
       "wRC+     3567\n",
       "dtype: int64"
      ]
     },
     "execution_count": 46,
     "metadata": {},
     "output_type": "execute_result"
    }
   ],
   "source": [
    "advanced_df.head()\n",
    "advanced_df.count()"
   ]
  },
  {
   "cell_type": "code",
   "execution_count": 47,
   "metadata": {},
   "outputs": [
    {
     "data": {
      "text/plain": [
       "G      3567\n",
       "AB     3567\n",
       "PA     3567\n",
       "H      3567\n",
       "1B     3567\n",
       "2B     3567\n",
       "3B     3567\n",
       "HR     3567\n",
       "R      3567\n",
       "RBI    3567\n",
       "BB     3567\n",
       "IBB    3567\n",
       "SO     3567\n",
       "HBP    3567\n",
       "SF     3567\n",
       "SH     3567\n",
       "GDP    3567\n",
       "SB     3567\n",
       "CS     3567\n",
       "AVG    3567\n",
       "dtype: int64"
      ]
     },
     "execution_count": 47,
     "metadata": {},
     "output_type": "execute_result"
    }
   ],
   "source": [
    "standard_df.head()\n",
    "standard_df.count()"
   ]
  },
  {
   "cell_type": "code",
   "execution_count": 48,
   "metadata": {},
   "outputs": [
    {
     "data": {
      "text/plain": [
       "Batting         3567\n",
       "Base Running    3567\n",
       "Fielding        3567\n",
       "Positional      3567\n",
       "Offense         3567\n",
       "Defense         3567\n",
       "League          3567\n",
       "Replacement     3567\n",
       "RAR             3567\n",
       "WAR             3567\n",
       "Dollars         3567\n",
       "dtype: int64"
      ]
     },
     "execution_count": 48,
     "metadata": {},
     "output_type": "execute_result"
    }
   ],
   "source": [
    "value_df.count()"
   ]
  },
  {
   "cell_type": "code",
   "execution_count": 49,
   "metadata": {},
   "outputs": [],
   "source": [
    "#Joining on the index for both columns\n",
    "#master_df becomes our primary dataframe\n",
    "master_df = pd.merge(advanced_df, standard_df, how='inner',left_index=True,right_index=True)\n",
    "master_df = pd.merge(master_df,value_df,how='inner',left_index=True,right_index=True)"
   ]
  },
  {
   "cell_type": "code",
   "execution_count": 50,
   "metadata": {},
   "outputs": [
    {
     "data": {
      "text/plain": [
       "PA_x     3567\n",
       "BB%      3567\n",
       "K%       3567\n",
       "BB/K     3567\n",
       "AVG_x    3567\n",
       "dtype: int64"
      ]
     },
     "execution_count": 50,
     "metadata": {},
     "output_type": "execute_result"
    }
   ],
   "source": [
    "master_df.count().head() #3567 - our merge worked"
   ]
  },
  {
   "cell_type": "code",
   "execution_count": 51,
   "metadata": {},
   "outputs": [],
   "source": []
  },
  {
   "cell_type": "code",
   "execution_count": 53,
   "metadata": {},
   "outputs": [
    {
     "data": {
      "text/html": [
       "<div>\n",
       "<style scoped>\n",
       "    .dataframe tbody tr th:only-of-type {\n",
       "        vertical-align: middle;\n",
       "    }\n",
       "\n",
       "    .dataframe tbody tr th {\n",
       "        vertical-align: top;\n",
       "    }\n",
       "\n",
       "    .dataframe thead th {\n",
       "        text-align: right;\n",
       "    }\n",
       "</style>\n",
       "<table border=\"1\" class=\"dataframe\">\n",
       "  <thead>\n",
       "    <tr style=\"text-align: right;\">\n",
       "      <th></th>\n",
       "      <th>PA_x</th>\n",
       "      <th>BB%</th>\n",
       "      <th>K%</th>\n",
       "      <th>BB/K</th>\n",
       "      <th>AVG_x</th>\n",
       "      <th>OBP</th>\n",
       "      <th>SLG</th>\n",
       "      <th>OPS</th>\n",
       "      <th>ISO</th>\n",
       "      <th>Spd</th>\n",
       "      <th>...</th>\n",
       "      <th>Base Running</th>\n",
       "      <th>Fielding</th>\n",
       "      <th>Positional</th>\n",
       "      <th>Offense</th>\n",
       "      <th>Defense</th>\n",
       "      <th>League</th>\n",
       "      <th>Replacement</th>\n",
       "      <th>RAR</th>\n",
       "      <th>WAR</th>\n",
       "      <th>Dollars</th>\n",
       "    </tr>\n",
       "  </thead>\n",
       "  <tbody>\n",
       "    <tr>\n",
       "      <th>Albert Pujols 2011</th>\n",
       "      <td>651</td>\n",
       "      <td>9.4 %</td>\n",
       "      <td>8.9 %</td>\n",
       "      <td>1.05</td>\n",
       "      <td>.299</td>\n",
       "      <td>.366</td>\n",
       "      <td>.541</td>\n",
       "      <td>.906</td>\n",
       "      <td>.242</td>\n",
       "      <td>3.9</td>\n",
       "      <td>...</td>\n",
       "      <td>-6.4</td>\n",
       "      <td>-0.8</td>\n",
       "      <td>-10.7</td>\n",
       "      <td>28.8</td>\n",
       "      <td>-11.6</td>\n",
       "      <td>1.3</td>\n",
       "      <td>18.9</td>\n",
       "      <td>37.5</td>\n",
       "      <td>4.0</td>\n",
       "      <td>$30.1</td>\n",
       "    </tr>\n",
       "    <tr>\n",
       "      <th>Yangervis Solarte 2015</th>\n",
       "      <td>571</td>\n",
       "      <td>6.0 %</td>\n",
       "      <td>9.8 %</td>\n",
       "      <td>0.61</td>\n",
       "      <td>.270</td>\n",
       "      <td>.320</td>\n",
       "      <td>.428</td>\n",
       "      <td>.748</td>\n",
       "      <td>.158</td>\n",
       "      <td>3.4</td>\n",
       "      <td>...</td>\n",
       "      <td>-4.7</td>\n",
       "      <td>-1.5</td>\n",
       "      <td>-0.5</td>\n",
       "      <td>1.2</td>\n",
       "      <td>-2.0</td>\n",
       "      <td>1.1</td>\n",
       "      <td>16.7</td>\n",
       "      <td>16.9</td>\n",
       "      <td>1.8</td>\n",
       "      <td>$14.4</td>\n",
       "    </tr>\n",
       "  </tbody>\n",
       "</table>\n",
       "<p>2 rows × 49 columns</p>\n",
       "</div>"
      ],
      "text/plain": [
       "                       PA_x    BB%     K%  BB/K AVG_x   OBP   SLG   OPS   ISO  \\\n",
       "Albert Pujols 2011      651  9.4 %  8.9 %  1.05  .299  .366  .541  .906  .242   \n",
       "Yangervis Solarte 2015  571  6.0 %  9.8 %  0.61  .270  .320  .428  .748  .158   \n",
       "\n",
       "                        Spd   ...   Base Running Fielding Positional Offense  \\\n",
       "Albert Pujols 2011      3.9   ...           -6.4     -0.8      -10.7    28.8   \n",
       "Yangervis Solarte 2015  3.4   ...           -4.7     -1.5       -0.5     1.2   \n",
       "\n",
       "                       Defense League Replacement   RAR  WAR Dollars  \n",
       "Albert Pujols 2011       -11.6    1.3        18.9  37.5  4.0   $30.1  \n",
       "Yangervis Solarte 2015    -2.0    1.1        16.7  16.9  1.8   $14.4  \n",
       "\n",
       "[2 rows x 49 columns]"
      ]
     },
     "execution_count": 53,
     "metadata": {},
     "output_type": "execute_result"
    }
   ],
   "source": [
    "# master_df.describe() #534 names - that sounds about right\n",
    "master_df.columns\n",
    "master_df.sample(2)"
   ]
  },
  {
   "cell_type": "code",
   "execution_count": 54,
   "metadata": {},
   "outputs": [],
   "source": [
    "#PLAYER_YEAR can be our index - easy to see what the row represents\n",
    "master_df.reset_index(drop=False,inplace=True) "
   ]
  },
  {
   "cell_type": "code",
   "execution_count": 56,
   "metadata": {},
   "outputs": [],
   "source": [
    "master_df = master_df.rename({\"index\":\"PLAYER_YEAR\"},axis=1)"
   ]
  },
  {
   "cell_type": "code",
   "execution_count": 58,
   "metadata": {},
   "outputs": [
    {
     "data": {
      "text/html": [
       "<div>\n",
       "<style scoped>\n",
       "    .dataframe tbody tr th:only-of-type {\n",
       "        vertical-align: middle;\n",
       "    }\n",
       "\n",
       "    .dataframe tbody tr th {\n",
       "        vertical-align: top;\n",
       "    }\n",
       "\n",
       "    .dataframe thead th {\n",
       "        text-align: right;\n",
       "    }\n",
       "</style>\n",
       "<table border=\"1\" class=\"dataframe\">\n",
       "  <thead>\n",
       "    <tr style=\"text-align: right;\">\n",
       "      <th></th>\n",
       "      <th>PLAYER_YEAR</th>\n",
       "      <th>PA_x</th>\n",
       "      <th>BB%</th>\n",
       "      <th>K%</th>\n",
       "      <th>BB/K</th>\n",
       "      <th>AVG_x</th>\n",
       "      <th>OBP</th>\n",
       "      <th>SLG</th>\n",
       "      <th>OPS</th>\n",
       "      <th>ISO</th>\n",
       "      <th>...</th>\n",
       "      <th>Base Running</th>\n",
       "      <th>Fielding</th>\n",
       "      <th>Positional</th>\n",
       "      <th>Offense</th>\n",
       "      <th>Defense</th>\n",
       "      <th>League</th>\n",
       "      <th>Replacement</th>\n",
       "      <th>RAR</th>\n",
       "      <th>WAR</th>\n",
       "      <th>Dollars</th>\n",
       "    </tr>\n",
       "  </thead>\n",
       "  <tbody>\n",
       "    <tr>\n",
       "      <th>1925</th>\n",
       "      <td>Trevor Plouffe 2013</td>\n",
       "      <td>522</td>\n",
       "      <td>6.5 %</td>\n",
       "      <td>21.5 %</td>\n",
       "      <td>0.30</td>\n",
       "      <td>.254</td>\n",
       "      <td>.309</td>\n",
       "      <td>.392</td>\n",
       "      <td>.701</td>\n",
       "      <td>.138</td>\n",
       "      <td>...</td>\n",
       "      <td>-2.5</td>\n",
       "      <td>-2.8</td>\n",
       "      <td>0.8</td>\n",
       "      <td>-7.1</td>\n",
       "      <td>-2.0</td>\n",
       "      <td>1.9</td>\n",
       "      <td>14.9</td>\n",
       "      <td>7.7</td>\n",
       "      <td>0.8</td>\n",
       "      <td>$6.1</td>\n",
       "    </tr>\n",
       "    <tr>\n",
       "      <th>725</th>\n",
       "      <td>Dustin Pedroia 2015</td>\n",
       "      <td>425</td>\n",
       "      <td>8.9 %</td>\n",
       "      <td>12.0 %</td>\n",
       "      <td>0.75</td>\n",
       "      <td>.291</td>\n",
       "      <td>.356</td>\n",
       "      <td>.441</td>\n",
       "      <td>.797</td>\n",
       "      <td>.150</td>\n",
       "      <td>...</td>\n",
       "      <td>-0.9</td>\n",
       "      <td>-0.7</td>\n",
       "      <td>1.3</td>\n",
       "      <td>7.3</td>\n",
       "      <td>0.6</td>\n",
       "      <td>1.4</td>\n",
       "      <td>12.4</td>\n",
       "      <td>21.7</td>\n",
       "      <td>2.3</td>\n",
       "      <td>$18.5</td>\n",
       "    </tr>\n",
       "  </tbody>\n",
       "</table>\n",
       "<p>2 rows × 50 columns</p>\n",
       "</div>"
      ],
      "text/plain": [
       "              PLAYER_YEAR PA_x    BB%      K%  BB/K AVG_x   OBP   SLG   OPS  \\\n",
       "1925  Trevor Plouffe 2013  522  6.5 %  21.5 %  0.30  .254  .309  .392  .701   \n",
       "725   Dustin Pedroia 2015  425  8.9 %  12.0 %  0.75  .291  .356  .441  .797   \n",
       "\n",
       "       ISO   ...   Base Running Fielding Positional Offense Defense League  \\\n",
       "1925  .138   ...           -2.5     -2.8        0.8    -7.1    -2.0    1.9   \n",
       "725   .150   ...           -0.9     -0.7        1.3     7.3     0.6    1.4   \n",
       "\n",
       "     Replacement   RAR  WAR Dollars  \n",
       "1925        14.9   7.7  0.8    $6.1  \n",
       "725         12.4  21.7  2.3   $18.5  \n",
       "\n",
       "[2 rows x 50 columns]"
      ]
     },
     "execution_count": 58,
     "metadata": {},
     "output_type": "execute_result"
    }
   ],
   "source": [
    "master_df.sample(2)"
   ]
  },
  {
   "cell_type": "code",
   "execution_count": 59,
   "metadata": {},
   "outputs": [],
   "source": [
    "#Save progress\n",
    "with open('df_MLB_Full.pkl', 'wb') as picklefile:\n",
    "    pickle.dump(master_df, picklefile)"
   ]
  },
  {
   "cell_type": "markdown",
   "metadata": {},
   "source": [
    "## Data Cleaning Time"
   ]
  },
  {
   "cell_type": "code",
   "execution_count": 60,
   "metadata": {},
   "outputs": [
    {
     "data": {
      "text/html": [
       "<div>\n",
       "<style scoped>\n",
       "    .dataframe tbody tr th:only-of-type {\n",
       "        vertical-align: middle;\n",
       "    }\n",
       "\n",
       "    .dataframe tbody tr th {\n",
       "        vertical-align: top;\n",
       "    }\n",
       "\n",
       "    .dataframe thead th {\n",
       "        text-align: right;\n",
       "    }\n",
       "</style>\n",
       "<table border=\"1\" class=\"dataframe\">\n",
       "  <thead>\n",
       "    <tr style=\"text-align: right;\">\n",
       "      <th></th>\n",
       "      <th>BB%</th>\n",
       "      <th>K%</th>\n",
       "    </tr>\n",
       "  </thead>\n",
       "  <tbody>\n",
       "    <tr>\n",
       "      <th>0</th>\n",
       "      <td>13.8 %</td>\n",
       "      <td>14.4 %</td>\n",
       "    </tr>\n",
       "    <tr>\n",
       "      <th>1</th>\n",
       "      <td>7.5 %</td>\n",
       "      <td>16.6 %</td>\n",
       "    </tr>\n",
       "    <tr>\n",
       "      <th>2</th>\n",
       "      <td>13.3 %</td>\n",
       "      <td>15.2 %</td>\n",
       "    </tr>\n",
       "    <tr>\n",
       "      <th>3</th>\n",
       "      <td>8.0 %</td>\n",
       "      <td>15.5 %</td>\n",
       "    </tr>\n",
       "    <tr>\n",
       "      <th>4</th>\n",
       "      <td>19.8 %</td>\n",
       "      <td>17.9 %</td>\n",
       "    </tr>\n",
       "  </tbody>\n",
       "</table>\n",
       "</div>"
      ],
      "text/plain": [
       "      BB%      K%\n",
       "0  13.8 %  14.4 %\n",
       "1   7.5 %  16.6 %\n",
       "2  13.3 %  15.2 %\n",
       "3   8.0 %  15.5 %\n",
       "4  19.8 %  17.9 %"
      ]
     },
     "execution_count": 60,
     "metadata": {},
     "output_type": "execute_result"
    }
   ],
   "source": [
    "#BB%, K% have percentage signs\n",
    "master_df[[\"BB%\",\"K%\"]].head()"
   ]
  },
  {
   "cell_type": "code",
   "execution_count": 20,
   "metadata": {},
   "outputs": [],
   "source": [
    "# master_df[['Batting',\n",
    "#        'Base Running', 'Fielding', 'Positional', 'Offense', 'Defense',\n",
    "#        'League', 'Replacement', 'RAR', 'WAR', 'Dollars', ]]"
   ]
  },
  {
   "cell_type": "code",
   "execution_count": 61,
   "metadata": {},
   "outputs": [],
   "source": [
    "#Replace % with empty\n",
    "for col in [\"BB%\",\"K%\"]:\n",
    "    master_df[col] = master_df[col].str.replace(\" \\%\",\"\")"
   ]
  },
  {
   "cell_type": "code",
   "execution_count": 62,
   "metadata": {},
   "outputs": [],
   "source": [
    "#Replace $ or Commas in Dollars with blank\n",
    "master_df[\"Dollars\"] = master_df[\"Dollars\"].str.replace(\"\\$|,\",\"\")"
   ]
  },
  {
   "cell_type": "code",
   "execution_count": 63,
   "metadata": {
    "scrolled": true
   },
   "outputs": [
    {
     "data": {
      "text/html": [
       "<div>\n",
       "<style scoped>\n",
       "    .dataframe tbody tr th:only-of-type {\n",
       "        vertical-align: middle;\n",
       "    }\n",
       "\n",
       "    .dataframe tbody tr th {\n",
       "        vertical-align: top;\n",
       "    }\n",
       "\n",
       "    .dataframe thead th {\n",
       "        text-align: right;\n",
       "    }\n",
       "</style>\n",
       "<table border=\"1\" class=\"dataframe\">\n",
       "  <thead>\n",
       "    <tr style=\"text-align: right;\">\n",
       "      <th></th>\n",
       "      <th>PLAYER_YEAR</th>\n",
       "      <th>PA_x</th>\n",
       "      <th>BB%</th>\n",
       "      <th>K%</th>\n",
       "      <th>BB/K</th>\n",
       "      <th>AVG_x</th>\n",
       "      <th>OBP</th>\n",
       "      <th>SLG</th>\n",
       "      <th>OPS</th>\n",
       "      <th>ISO</th>\n",
       "      <th>...</th>\n",
       "      <th>Base Running</th>\n",
       "      <th>Fielding</th>\n",
       "      <th>Positional</th>\n",
       "      <th>Offense</th>\n",
       "      <th>Defense</th>\n",
       "      <th>League</th>\n",
       "      <th>Replacement</th>\n",
       "      <th>RAR</th>\n",
       "      <th>WAR</th>\n",
       "      <th>Dollars</th>\n",
       "    </tr>\n",
       "  </thead>\n",
       "  <tbody>\n",
       "    <tr>\n",
       "      <th>748</th>\n",
       "      <td>Adam Dunn 2012</td>\n",
       "      <td>649</td>\n",
       "      <td>16.2</td>\n",
       "      <td>34.2</td>\n",
       "      <td>0.47</td>\n",
       "      <td>.204</td>\n",
       "      <td>.333</td>\n",
       "      <td>.468</td>\n",
       "      <td>.800</td>\n",
       "      <td>.263</td>\n",
       "      <td>...</td>\n",
       "      <td>-1.3</td>\n",
       "      <td>1.7</td>\n",
       "      <td>-14.1</td>\n",
       "      <td>10.5</td>\n",
       "      <td>-12.4</td>\n",
       "      <td>2.2</td>\n",
       "      <td>19.2</td>\n",
       "      <td>19.4</td>\n",
       "      <td>2.0</td>\n",
       "      <td>13.2</td>\n",
       "    </tr>\n",
       "  </tbody>\n",
       "</table>\n",
       "<p>1 rows × 50 columns</p>\n",
       "</div>"
      ],
      "text/plain": [
       "        PLAYER_YEAR PA_x   BB%    K%  BB/K AVG_x   OBP   SLG   OPS   ISO  \\\n",
       "748  Adam Dunn 2012  649  16.2  34.2  0.47  .204  .333  .468  .800  .263   \n",
       "\n",
       "      ...   Base Running Fielding Positional Offense Defense League  \\\n",
       "748   ...           -1.3      1.7      -14.1    10.5   -12.4    2.2   \n",
       "\n",
       "    Replacement   RAR  WAR Dollars  \n",
       "748        19.2  19.4  2.0    13.2  \n",
       "\n",
       "[1 rows x 50 columns]"
      ]
     },
     "execution_count": 63,
     "metadata": {},
     "output_type": "execute_result"
    }
   ],
   "source": [
    "master_df.sample()"
   ]
  },
  {
   "cell_type": "code",
   "execution_count": 64,
   "metadata": {},
   "outputs": [
    {
     "data": {
      "text/plain": [
       "PLAYER_YEAR      object\n",
       "PA_x              int64\n",
       "BB%             float64\n",
       "K%              float64\n",
       "BB/K            float64\n",
       "AVG_x           float64\n",
       "OBP             float64\n",
       "SLG             float64\n",
       "OPS             float64\n",
       "ISO             float64\n",
       "Spd             float64\n",
       "BABIP           float64\n",
       "UBR             float64\n",
       "wGDP            float64\n",
       "wSB             float64\n",
       "wRC               int64\n",
       "wRAA            float64\n",
       "wOBA            float64\n",
       "wRC+              int64\n",
       "G                 int64\n",
       "AB                int64\n",
       "PA_y              int64\n",
       "H                 int64\n",
       "1B                int64\n",
       "2B                int64\n",
       "3B                int64\n",
       "HR                int64\n",
       "R                 int64\n",
       "RBI               int64\n",
       "BB                int64\n",
       "IBB               int64\n",
       "SO                int64\n",
       "HBP               int64\n",
       "SF                int64\n",
       "SH                int64\n",
       "GDP               int64\n",
       "SB                int64\n",
       "CS                int64\n",
       "AVG_y           float64\n",
       "Batting         float64\n",
       "Base Running    float64\n",
       "Fielding         object\n",
       "Positional      float64\n",
       "Offense         float64\n",
       "Defense         float64\n",
       "League          float64\n",
       "Replacement     float64\n",
       "RAR             float64\n",
       "WAR             float64\n",
       "Dollars          object\n",
       "dtype: object"
      ]
     },
     "execution_count": 64,
     "metadata": {},
     "output_type": "execute_result"
    }
   ],
   "source": [
    "'''\n",
    "Now convert all numbers available to numeric\n",
    "'''\n",
    "master_df = master_df.apply(pd.to_numeric,errors='ignore')\n",
    "master_df.dtypes"
   ]
  },
  {
   "cell_type": "code",
   "execution_count": 65,
   "metadata": {},
   "outputs": [],
   "source": [
    "#Replace $ or Commas in DOLLARS with blank\n",
    "master_df[\"Dollars\"] = master_df[\"Dollars\"].str.replace(\"(\",\"-\")\n",
    "master_df[\"Dollars\"] = master_df[\"Dollars\"].str.replace(\")\",\"\")\n",
    "master_df = master_df.apply(pd.to_numeric,errors='ignore')"
   ]
  },
  {
   "cell_type": "code",
   "execution_count": 66,
   "metadata": {},
   "outputs": [],
   "source": [
    "master_df[\"Fielding\"] = master_df[\"Fielding\"].apply(pd.to_numeric,errors='force')"
   ]
  },
  {
   "cell_type": "code",
   "execution_count": 67,
   "metadata": {},
   "outputs": [
    {
     "data": {
      "text/plain": [
       "PLAYER_YEAR      object\n",
       "PA_x              int64\n",
       "BB%             float64\n",
       "K%              float64\n",
       "BB/K            float64\n",
       "AVG_x           float64\n",
       "OBP             float64\n",
       "SLG             float64\n",
       "OPS             float64\n",
       "ISO             float64\n",
       "Spd             float64\n",
       "BABIP           float64\n",
       "UBR             float64\n",
       "wGDP            float64\n",
       "wSB             float64\n",
       "wRC               int64\n",
       "wRAA            float64\n",
       "wOBA            float64\n",
       "wRC+              int64\n",
       "G                 int64\n",
       "AB                int64\n",
       "PA_y              int64\n",
       "H                 int64\n",
       "1B                int64\n",
       "2B                int64\n",
       "3B                int64\n",
       "HR                int64\n",
       "R                 int64\n",
       "RBI               int64\n",
       "BB                int64\n",
       "IBB               int64\n",
       "SO                int64\n",
       "HBP               int64\n",
       "SF                int64\n",
       "SH                int64\n",
       "GDP               int64\n",
       "SB                int64\n",
       "CS                int64\n",
       "AVG_y           float64\n",
       "Batting         float64\n",
       "Base Running    float64\n",
       "Fielding        float64\n",
       "Positional      float64\n",
       "Offense         float64\n",
       "Defense         float64\n",
       "League          float64\n",
       "Replacement     float64\n",
       "RAR             float64\n",
       "WAR             float64\n",
       "Dollars         float64\n",
       "dtype: object"
      ]
     },
     "execution_count": 67,
     "metadata": {},
     "output_type": "execute_result"
    }
   ],
   "source": [
    "master_df.dtypes"
   ]
  },
  {
   "cell_type": "code",
   "execution_count": 34,
   "metadata": {},
   "outputs": [],
   "source": [
    "master_df.rename({\"Dollars\":\"Fangraphs_Dollars\"}, axis='columns',inplace=True)"
   ]
  },
  {
   "cell_type": "code",
   "execution_count": 35,
   "metadata": {},
   "outputs": [
    {
     "data": {
      "text/html": [
       "<div>\n",
       "<style scoped>\n",
       "    .dataframe tbody tr th:only-of-type {\n",
       "        vertical-align: middle;\n",
       "    }\n",
       "\n",
       "    .dataframe tbody tr th {\n",
       "        vertical-align: top;\n",
       "    }\n",
       "\n",
       "    .dataframe thead th {\n",
       "        text-align: right;\n",
       "    }\n",
       "</style>\n",
       "<table border=\"1\" class=\"dataframe\">\n",
       "  <thead>\n",
       "    <tr style=\"text-align: right;\">\n",
       "      <th></th>\n",
       "      <th>BB%</th>\n",
       "      <th>K%</th>\n",
       "    </tr>\n",
       "  </thead>\n",
       "  <tbody>\n",
       "    <tr>\n",
       "      <th>0</th>\n",
       "      <td>13.8</td>\n",
       "      <td>14.4</td>\n",
       "    </tr>\n",
       "    <tr>\n",
       "      <th>1</th>\n",
       "      <td>7.5</td>\n",
       "      <td>16.6</td>\n",
       "    </tr>\n",
       "    <tr>\n",
       "      <th>2</th>\n",
       "      <td>13.3</td>\n",
       "      <td>15.2</td>\n",
       "    </tr>\n",
       "    <tr>\n",
       "      <th>3</th>\n",
       "      <td>8.0</td>\n",
       "      <td>15.5</td>\n",
       "    </tr>\n",
       "    <tr>\n",
       "      <th>4</th>\n",
       "      <td>19.8</td>\n",
       "      <td>17.9</td>\n",
       "    </tr>\n",
       "  </tbody>\n",
       "</table>\n",
       "</div>"
      ],
      "text/plain": [
       "    BB%    K%\n",
       "0  13.8  14.4\n",
       "1   7.5  16.6\n",
       "2  13.3  15.2\n",
       "3   8.0  15.5\n",
       "4  19.8  17.9"
      ]
     },
     "execution_count": 35,
     "metadata": {},
     "output_type": "execute_result"
    }
   ],
   "source": [
    "master_df[[\"BB%\",\"K%\"]].head()"
   ]
  },
  {
   "cell_type": "code",
   "execution_count": 70,
   "metadata": {},
   "outputs": [
    {
     "data": {
      "text/plain": [
       "PLAYER_YEAR      object\n",
       "PA_x              int64\n",
       "BB%             float64\n",
       "K%              float64\n",
       "BB/K            float64\n",
       "AVG_x           float64\n",
       "OBP             float64\n",
       "SLG             float64\n",
       "OPS             float64\n",
       "ISO             float64\n",
       "Spd             float64\n",
       "BABIP           float64\n",
       "UBR             float64\n",
       "wGDP            float64\n",
       "wSB             float64\n",
       "wRC               int64\n",
       "wRAA            float64\n",
       "wOBA            float64\n",
       "wRC+              int64\n",
       "G                 int64\n",
       "AB                int64\n",
       "PA_y              int64\n",
       "H                 int64\n",
       "1B                int64\n",
       "2B                int64\n",
       "3B                int64\n",
       "HR                int64\n",
       "R                 int64\n",
       "RBI               int64\n",
       "BB                int64\n",
       "IBB               int64\n",
       "SO                int64\n",
       "HBP               int64\n",
       "SF                int64\n",
       "SH                int64\n",
       "GDP               int64\n",
       "SB                int64\n",
       "CS                int64\n",
       "AVG_y           float64\n",
       "Batting         float64\n",
       "Base Running    float64\n",
       "Fielding        float64\n",
       "Positional      float64\n",
       "Offense         float64\n",
       "Defense         float64\n",
       "League          float64\n",
       "Replacement     float64\n",
       "RAR             float64\n",
       "WAR             float64\n",
       "Dollars         float64\n",
       "dtype: object"
      ]
     },
     "execution_count": 70,
     "metadata": {},
     "output_type": "execute_result"
    }
   ],
   "source": [
    "master_df.dtypes #Looks Good"
   ]
  },
  {
   "cell_type": "code",
   "execution_count": 72,
   "metadata": {},
   "outputs": [],
   "source": [
    "#Drop AVG_y Column since AVG_x is the same number\n",
    "master_df=master_df.drop([\"AVG_y\"],1)"
   ]
  },
  {
   "cell_type": "code",
   "execution_count": 73,
   "metadata": {},
   "outputs": [],
   "source": [
    "master_df[\"PA_x\"] = master_df[\"PA_x\"].apply(pd.to_numeric,errors='ignore')"
   ]
  },
  {
   "cell_type": "code",
   "execution_count": 74,
   "metadata": {},
   "outputs": [
    {
     "data": {
      "text/plain": [
       "PLAYER_YEAR      object\n",
       "PA_x              int64\n",
       "BB%             float64\n",
       "K%              float64\n",
       "BB/K            float64\n",
       "AVG_x           float64\n",
       "OBP             float64\n",
       "SLG             float64\n",
       "OPS             float64\n",
       "ISO             float64\n",
       "Spd             float64\n",
       "BABIP           float64\n",
       "UBR             float64\n",
       "wGDP            float64\n",
       "wSB             float64\n",
       "wRC               int64\n",
       "wRAA            float64\n",
       "wOBA            float64\n",
       "wRC+              int64\n",
       "G                 int64\n",
       "AB                int64\n",
       "PA_y              int64\n",
       "H                 int64\n",
       "1B                int64\n",
       "2B                int64\n",
       "3B                int64\n",
       "HR                int64\n",
       "R                 int64\n",
       "RBI               int64\n",
       "BB                int64\n",
       "IBB               int64\n",
       "SO                int64\n",
       "HBP               int64\n",
       "SF                int64\n",
       "SH                int64\n",
       "GDP               int64\n",
       "SB                int64\n",
       "CS                int64\n",
       "Batting         float64\n",
       "Base Running    float64\n",
       "Fielding        float64\n",
       "Positional      float64\n",
       "Offense         float64\n",
       "Defense         float64\n",
       "League          float64\n",
       "Replacement     float64\n",
       "RAR             float64\n",
       "WAR             float64\n",
       "Dollars         float64\n",
       "dtype: object"
      ]
     },
     "execution_count": 74,
     "metadata": {},
     "output_type": "execute_result"
    }
   ],
   "source": [
    "master_df.dtypes"
   ]
  },
  {
   "cell_type": "code",
   "execution_count": 75,
   "metadata": {},
   "outputs": [],
   "source": [
    "#Save progress\n",
    "with open('df_MLB_Full.pkl', 'wb') as picklefile:\n",
    "    pickle.dump(master_df, picklefile)"
   ]
  },
  {
   "cell_type": "code",
   "execution_count": null,
   "metadata": {},
   "outputs": [],
   "source": []
  }
 ],
 "metadata": {
  "kernelspec": {
   "display_name": "Python 3",
   "language": "python",
   "name": "python3"
  },
  "language_info": {
   "codemirror_mode": {
    "name": "ipython",
    "version": 3
   },
   "file_extension": ".py",
   "mimetype": "text/x-python",
   "name": "python",
   "nbconvert_exporter": "python",
   "pygments_lexer": "ipython3",
   "version": "3.6.4"
  }
 },
 "nbformat": 4,
 "nbformat_minor": 2
}
