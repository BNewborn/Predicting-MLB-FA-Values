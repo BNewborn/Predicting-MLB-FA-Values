{
 "cells": [
  {
   "cell_type": "code",
   "execution_count": 1,
   "metadata": {},
   "outputs": [],
   "source": [
    "from selenium import webdriver\n",
    "from selenium.webdriver.common.keys import Keys\n",
    "import time\n",
    "import os\n",
    "\n",
    "chromedriver = \"/Users/brian_newborn/Downloads/chromedriver\" # path to the chromedriver executable\n",
    "os.environ[\"webdriver.chrome.driver\"] = chromedriver\n",
    "driver = webdriver.Chrome(chromedriver)\n",
    "#2010-2017 Batting Stats, Standard\n",
    "url=\"https://www.fangraphs.com/leaders.aspx?pos=all&stats=bat&lg=all&qual=100&type=0&season=2017&month=0&season1=2010&ind=1&team=0&rost=0&age=0&filter=&players=0\"\n",
    "driver.get(url)\n",
    "\n",
    "#Need to Save Column Names\n",
    "col_names_list = []"
   ]
  },
  {
   "cell_type": "code",
   "execution_count": 9,
   "metadata": {},
   "outputs": [],
   "source": [
    "def col_headers():\n",
    "    #Grab Headers - if they arent in list\n",
    "    identifier_header = \"rgHeader\"\n",
    "    col_names = driver.find_elements_by_class_name(identifier_header)\n",
    "    curr_page = driver.find_element_by_xpath\\\n",
    "    ('.//div[@class = \"rgWrap rgNumPart\"]//a[@class=\"rgCurrentPage\"]').text\n",
    "    for n in col_names[4:]:\n",
    "        col_names_list.append(n.text)\n",
    "        print(n.text)\n",
    "    return col_names_list\n",
    "columns = col_headers()"
   ]
  },
  {
   "cell_type": "code",
   "execution_count": 15,
   "metadata": {},
   "outputs": [
    {
     "name": "stdout",
     "output_type": "stream",
     "text": [
      "G\n",
      "AB\n",
      "PA\n",
      "H\n",
      "1B\n",
      "2B\n",
      "3B\n",
      "HR\n",
      "R\n",
      "RBI\n",
      "BB\n",
      "IBB\n",
      "SO\n",
      "HBP\n",
      "SF\n",
      "SH\n",
      "GDP\n",
      "SB\n",
      "CS\n",
      "AVG\n"
     ]
    }
   ],
   "source": []
  },
  {
   "cell_type": "code",
   "execution_count": 16,
   "metadata": {},
   "outputs": [
    {
     "data": {
      "text/plain": [
       "list"
      ]
     },
     "execution_count": 16,
     "metadata": {},
     "output_type": "execute_result"
    }
   ],
   "source": [
    "type(columns)"
   ]
  },
  {
   "cell_type": "code",
   "execution_count": 11,
   "metadata": {},
   "outputs": [
    {
     "ename": "TypeError",
     "evalue": "'function' object is not iterable",
     "output_type": "error",
     "traceback": [
      "\u001b[0;31m---------------------------------------------------------------------------\u001b[0m",
      "\u001b[0;31mTypeError\u001b[0m                                 Traceback (most recent call last)",
      "\u001b[0;32m<ipython-input-11-21128e9ea2f7>\u001b[0m in \u001b[0;36m<module>\u001b[0;34m()\u001b[0m\n\u001b[0;32m----> 1\u001b[0;31m \u001b[0;32mfor\u001b[0m \u001b[0mi\u001b[0m \u001b[0;32min\u001b[0m \u001b[0mcolumns\u001b[0m\u001b[0;34m:\u001b[0m\u001b[0;34m\u001b[0m\u001b[0m\n\u001b[0m\u001b[1;32m      2\u001b[0m     \u001b[0mprint\u001b[0m\u001b[0;34m(\u001b[0m\u001b[0mi\u001b[0m\u001b[0;34m.\u001b[0m\u001b[0mtext\u001b[0m\u001b[0;34m)\u001b[0m\u001b[0;34m\u001b[0m\u001b[0m\n",
      "\u001b[0;31mTypeError\u001b[0m: 'function' object is not iterable"
     ]
    }
   ],
   "source": []
  },
  {
   "cell_type": "code",
   "execution_count": 109,
   "metadata": {},
   "outputs": [],
   "source": [
    "import pickle\n",
    "\n",
    "with open('master_players_420.pkl', 'wb') as picklefile:\n",
    "    pickle.dump(master_players, picklefile)"
   ]
  },
  {
   "cell_type": "code",
   "execution_count": 108,
   "metadata": {},
   "outputs": [],
   "source": [
    "with open('col_names_list_420.pkl', 'wb') as picklefile:\n",
    "    pickle.dump(col_names_list, picklefile)"
   ]
  },
  {
   "cell_type": "code",
   "execution_count": 53,
   "metadata": {},
   "outputs": [],
   "source": [
    "import pandas as pd\n",
    "# test_df = pd.DataFrame(master_players,index=master_players.keys())\n",
    "test_df = pd.DataFrame.from_dict(master_players, orient='index')"
   ]
  },
  {
   "cell_type": "code",
   "execution_count": 54,
   "metadata": {},
   "outputs": [
    {
     "data": {
      "text/html": [
       "<div>\n",
       "<style scoped>\n",
       "    .dataframe tbody tr th:only-of-type {\n",
       "        vertical-align: middle;\n",
       "    }\n",
       "\n",
       "    .dataframe tbody tr th {\n",
       "        vertical-align: top;\n",
       "    }\n",
       "\n",
       "    .dataframe thead th {\n",
       "        text-align: right;\n",
       "    }\n",
       "</style>\n",
       "<table border=\"1\" class=\"dataframe\">\n",
       "  <thead>\n",
       "    <tr style=\"text-align: right;\">\n",
       "      <th></th>\n",
       "      <th>0</th>\n",
       "      <th>1</th>\n",
       "      <th>2</th>\n",
       "      <th>3</th>\n",
       "      <th>4</th>\n",
       "      <th>5</th>\n",
       "      <th>6</th>\n",
       "      <th>7</th>\n",
       "      <th>8</th>\n",
       "      <th>9</th>\n",
       "      <th>...</th>\n",
       "      <th>16</th>\n",
       "      <th>17</th>\n",
       "      <th>18</th>\n",
       "      <th>19</th>\n",
       "      <th>20</th>\n",
       "      <th>21</th>\n",
       "      <th>22</th>\n",
       "      <th>23</th>\n",
       "      <th>24</th>\n",
       "      <th>25</th>\n",
       "    </tr>\n",
       "  </thead>\n",
       "  <tbody>\n",
       "    <tr>\n",
       "      <th>Anthony Rizzo 2017</th>\n",
       "      <td>C</td>\n",
       "      <td>u</td>\n",
       "      <td>b</td>\n",
       "      <td>s</td>\n",
       "      <td>691</td>\n",
       "      <td>13.2 %</td>\n",
       "      <td>13.0 %</td>\n",
       "      <td>1.01</td>\n",
       "      <td>.392</td>\n",
       "      <td>.507</td>\n",
       "      <td>...</td>\n",
       "      <td>.380</td>\n",
       "      <td>133</td>\n",
       "      <td>None</td>\n",
       "      <td>None</td>\n",
       "      <td>None</td>\n",
       "      <td>None</td>\n",
       "      <td>None</td>\n",
       "      <td>None</td>\n",
       "      <td>None</td>\n",
       "      <td>None</td>\n",
       "    </tr>\n",
       "    <tr>\n",
       "      <th>Justin Upton 2017</th>\n",
       "      <td>-</td>\n",
       "      <td></td>\n",
       "      <td>-</td>\n",
       "      <td></td>\n",
       "      <td>-</td>\n",
       "      <td>635</td>\n",
       "      <td>11.7 %</td>\n",
       "      <td>28.3 %</td>\n",
       "      <td>0.41</td>\n",
       "      <td>.361</td>\n",
       "      <td>...</td>\n",
       "      <td>30.6</td>\n",
       "      <td>.378</td>\n",
       "      <td>137</td>\n",
       "      <td>None</td>\n",
       "      <td>None</td>\n",
       "      <td>None</td>\n",
       "      <td>None</td>\n",
       "      <td>None</td>\n",
       "      <td>None</td>\n",
       "      <td>None</td>\n",
       "    </tr>\n",
       "    <tr>\n",
       "      <th>Eric Hosmer 2017</th>\n",
       "      <td>R</td>\n",
       "      <td>o</td>\n",
       "      <td>y</td>\n",
       "      <td>a</td>\n",
       "      <td>l</td>\n",
       "      <td>s</td>\n",
       "      <td>671</td>\n",
       "      <td>9.8 %</td>\n",
       "      <td>15.5 %</td>\n",
       "      <td>0.63</td>\n",
       "      <td>...</td>\n",
       "      <td>0.3</td>\n",
       "      <td>31.3</td>\n",
       "      <td>.376</td>\n",
       "      <td>135</td>\n",
       "      <td>None</td>\n",
       "      <td>None</td>\n",
       "      <td>None</td>\n",
       "      <td>None</td>\n",
       "      <td>None</td>\n",
       "      <td>None</td>\n",
       "    </tr>\n",
       "    <tr>\n",
       "      <th>Avisail Garcia 2017</th>\n",
       "      <td>W</td>\n",
       "      <td>h</td>\n",
       "      <td>i</td>\n",
       "      <td>t</td>\n",
       "      <td>e</td>\n",
       "      <td></td>\n",
       "      <td>S</td>\n",
       "      <td>o</td>\n",
       "      <td>x</td>\n",
       "      <td>561</td>\n",
       "      <td>...</td>\n",
       "      <td>4.3</td>\n",
       "      <td>.392</td>\n",
       "      <td>-1.0</td>\n",
       "      <td>-0.7</td>\n",
       "      <td>25.7</td>\n",
       "      <td>.375</td>\n",
       "      <td>137</td>\n",
       "      <td>None</td>\n",
       "      <td>None</td>\n",
       "      <td>None</td>\n",
       "    </tr>\n",
       "    <tr>\n",
       "      <th>Edwin Encarnacion 2017</th>\n",
       "      <td>I</td>\n",
       "      <td>n</td>\n",
       "      <td>d</td>\n",
       "      <td>i</td>\n",
       "      <td>a</td>\n",
       "      <td>n</td>\n",
       "      <td>s</td>\n",
       "      <td>669</td>\n",
       "      <td>15.5 %</td>\n",
       "      <td>19.9 %</td>\n",
       "      <td>...</td>\n",
       "      <td>-0.7</td>\n",
       "      <td>-0.1</td>\n",
       "      <td>29.4</td>\n",
       "      <td>.373</td>\n",
       "      <td>132</td>\n",
       "      <td>None</td>\n",
       "      <td>None</td>\n",
       "      <td>None</td>\n",
       "      <td>None</td>\n",
       "      <td>None</td>\n",
       "    </tr>\n",
       "  </tbody>\n",
       "</table>\n",
       "<p>5 rows × 26 columns</p>\n",
       "</div>"
      ],
      "text/plain": [
       "                       0  1  2  3    4       5       6       7       8   \\\n",
       "Anthony Rizzo 2017      C  u  b  s  691  13.2 %  13.0 %    1.01    .392   \n",
       "Justin Upton 2017       -     -       -     635  11.7 %  28.3 %    0.41   \n",
       "Eric Hosmer 2017        R  o  y  a    l       s     671   9.8 %  15.5 %   \n",
       "Avisail Garcia 2017     W  h  i  t    e               S       o       x   \n",
       "Edwin Encarnacion 2017  I  n  d  i    a       n       s     669  15.5 %   \n",
       "\n",
       "                            9   ...     16    17    18    19    20    21  \\\n",
       "Anthony Rizzo 2017        .507  ...   .380   133  None  None  None  None   \n",
       "Justin Upton 2017         .361  ...   30.6  .378   137  None  None  None   \n",
       "Eric Hosmer 2017          0.63  ...    0.3  31.3  .376   135  None  None   \n",
       "Avisail Garcia 2017        561  ...    4.3  .392  -1.0  -0.7  25.7  .375   \n",
       "Edwin Encarnacion 2017  19.9 %  ...   -0.7  -0.1  29.4  .373   132  None   \n",
       "\n",
       "                          22    23    24    25  \n",
       "Anthony Rizzo 2017      None  None  None  None  \n",
       "Justin Upton 2017       None  None  None  None  \n",
       "Eric Hosmer 2017        None  None  None  None  \n",
       "Avisail Garcia 2017      137  None  None  None  \n",
       "Edwin Encarnacion 2017  None  None  None  None  \n",
       "\n",
       "[5 rows x 26 columns]"
      ]
     },
     "execution_count": 54,
     "metadata": {},
     "output_type": "execute_result"
    }
   ],
   "source": [
    "test_df.head()"
   ]
  },
  {
   "cell_type": "code",
   "execution_count": null,
   "metadata": {},
   "outputs": [],
   "source": []
  }
 ],
 "metadata": {
  "kernelspec": {
   "display_name": "Python 3",
   "language": "python",
   "name": "python3"
  },
  "language_info": {
   "codemirror_mode": {
    "name": "ipython",
    "version": 3
   },
   "file_extension": ".py",
   "mimetype": "text/x-python",
   "name": "python",
   "nbconvert_exporter": "python",
   "pygments_lexer": "ipython3",
   "version": "3.6.4"
  }
 },
 "nbformat": 4,
 "nbformat_minor": 2
}
