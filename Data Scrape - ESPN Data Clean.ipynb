{
 "cells": [
  {
   "cell_type": "code",
   "execution_count": 38,
   "metadata": {},
   "outputs": [],
   "source": [
    "import pandas as pd\n",
    "import requests\n",
    "import re\n",
    "from bs4 import BeautifulSoup"
   ]
  },
  {
   "cell_type": "code",
   "execution_count": 39,
   "metadata": {},
   "outputs": [],
   "source": [
    "url = \"http://www.espn.com/mlb/freeagents/_/year/2017/type/dollars\"\n",
    "response = requests.get(url)\n",
    "page = response.text"
   ]
  },
  {
   "cell_type": "code",
   "execution_count": 40,
   "metadata": {},
   "outputs": [],
   "source": [
    "soup = BeautifulSoup(page,\"html5lib\")"
   ]
  },
  {
   "cell_type": "code",
   "execution_count": 41,
   "metadata": {},
   "outputs": [],
   "source": [
    "#Players are both in class oddrow and even row\n",
    "#Using regex to grab both at once\n",
    "rowplayer_regex = re.compile('.*row\\splayer.*')"
   ]
  },
  {
   "cell_type": "code",
   "execution_count": 42,
   "metadata": {},
   "outputs": [],
   "source": [
    "col_name_all = soup.find_all(class_=\"colhead\")[1]\n",
    "col_names_list=[]\n",
    "for name in col_name_all.find_all(\"td\"):\n",
    "    col_names_list.append(name.text)"
   ]
  },
  {
   "cell_type": "markdown",
   "metadata": {},
   "source": [
    "## Now Lets Build a List of 2017 MLB Free Agents"
   ]
  },
  {
   "cell_type": "code",
   "execution_count": 43,
   "metadata": {},
   "outputs": [],
   "source": [
    "free_agents_list = soup.find_all(class_=rowplayer_regex)"
   ]
  },
  {
   "cell_type": "code",
   "execution_count": 44,
   "metadata": {},
   "outputs": [],
   "source": [
    "free_agents_17 = {} #empty dict to add player and his data to\n",
    "for row in free_agents_list:\n",
    "    items = row.find_all('td')\n",
    "    player = items[0].find('a').text\n",
    "    free_agents_17[player] = [i.text for i in items[1:]]"
   ]
  },
  {
   "cell_type": "code",
   "execution_count": 45,
   "metadata": {},
   "outputs": [],
   "source": [
    "free_agents_17df = pd.DataFrame.from_dict\\\n",
    "(data=free_agents_17,orient='index')\n",
    "free_agents_17df.reset_index(inplace=True)\n",
    "#reset index because player name shouldn't be index\n",
    "#We'll need it to join on"
   ]
  },
  {
   "cell_type": "code",
   "execution_count": 46,
   "metadata": {},
   "outputs": [
    {
     "data": {
      "text/html": [
       "<div>\n",
       "<style scoped>\n",
       "    .dataframe tbody tr th:only-of-type {\n",
       "        vertical-align: middle;\n",
       "    }\n",
       "\n",
       "    .dataframe tbody tr th {\n",
       "        vertical-align: top;\n",
       "    }\n",
       "\n",
       "    .dataframe thead th {\n",
       "        text-align: right;\n",
       "    }\n",
       "</style>\n",
       "<table border=\"1\" class=\"dataframe\">\n",
       "  <thead>\n",
       "    <tr style=\"text-align: right;\">\n",
       "      <th></th>\n",
       "      <th>index</th>\n",
       "      <th>0</th>\n",
       "      <th>1</th>\n",
       "      <th>2</th>\n",
       "      <th>3</th>\n",
       "      <th>4</th>\n",
       "      <th>5</th>\n",
       "      <th>6</th>\n",
       "      <th>7</th>\n",
       "    </tr>\n",
       "  </thead>\n",
       "  <tbody>\n",
       "    <tr>\n",
       "      <th>0</th>\n",
       "      <td>Eric Hosmer</td>\n",
       "      <td>1B</td>\n",
       "      <td>28</td>\n",
       "      <td>Signed</td>\n",
       "      <td>Royals</td>\n",
       "      <td>Padres</td>\n",
       "      <td>8</td>\n",
       "      <td>7</td>\n",
       "      <td>$144,000,000</td>\n",
       "    </tr>\n",
       "    <tr>\n",
       "      <th>1</th>\n",
       "      <td>Yu Darvish</td>\n",
       "      <td>SP</td>\n",
       "      <td>31</td>\n",
       "      <td>Signed</td>\n",
       "      <td>Dodgers</td>\n",
       "      <td>Cubs</td>\n",
       "      <td>6</td>\n",
       "      <td>1</td>\n",
       "      <td>$126,000,000</td>\n",
       "    </tr>\n",
       "    <tr>\n",
       "      <th>2</th>\n",
       "      <td>J.D. Martinez</td>\n",
       "      <td>RF</td>\n",
       "      <td>30</td>\n",
       "      <td>Signed</td>\n",
       "      <td>Diamondbacks</td>\n",
       "      <td>Red Sox</td>\n",
       "      <td>5</td>\n",
       "      <td>6</td>\n",
       "      <td>$110,000,000</td>\n",
       "    </tr>\n",
       "    <tr>\n",
       "      <th>3</th>\n",
       "      <td>Lorenzo Cain</td>\n",
       "      <td>CF</td>\n",
       "      <td>32</td>\n",
       "      <td>Signed</td>\n",
       "      <td>Royals</td>\n",
       "      <td>Brewers</td>\n",
       "      <td>5</td>\n",
       "      <td>2</td>\n",
       "      <td>$80,000,000</td>\n",
       "    </tr>\n",
       "    <tr>\n",
       "      <th>4</th>\n",
       "      <td>Jake Arrieta</td>\n",
       "      <td>SP</td>\n",
       "      <td>32</td>\n",
       "      <td>Signed</td>\n",
       "      <td>Cubs</td>\n",
       "      <td>Phillies</td>\n",
       "      <td>3</td>\n",
       "      <td>4</td>\n",
       "      <td>$75,000,000</td>\n",
       "    </tr>\n",
       "  </tbody>\n",
       "</table>\n",
       "</div>"
      ],
      "text/plain": [
       "           index   0   1       2             3         4  5  6             7\n",
       "0    Eric Hosmer  1B  28  Signed        Royals    Padres  8  7  $144,000,000\n",
       "1     Yu Darvish  SP  31  Signed       Dodgers      Cubs  6  1  $126,000,000\n",
       "2  J.D. Martinez  RF  30  Signed  Diamondbacks   Red Sox  5  6  $110,000,000\n",
       "3   Lorenzo Cain  CF  32  Signed        Royals   Brewers  5  2   $80,000,000\n",
       "4   Jake Arrieta  SP  32  Signed          Cubs  Phillies  3  4   $75,000,000"
      ]
     },
     "execution_count": 46,
     "metadata": {},
     "output_type": "execute_result"
    }
   ],
   "source": [
    "free_agents_17df.head()"
   ]
  },
  {
   "cell_type": "code",
   "execution_count": 47,
   "metadata": {},
   "outputs": [],
   "source": [
    "#Rename Columns to match ESPN's\n",
    "col_names_dict = {\"index\":\"PLAYER\",0:\"POS\",1:\"AGE\",2:\"STATUS\",\\\n",
    "                 3:\"OLD_TEAM\",4:\"NEW_TEAM\",5:\"YRS\",6:\"RK\"\\\n",
    "                  ,7:\"DOLLARS\"}"
   ]
  },
  {
   "cell_type": "code",
   "execution_count": 48,
   "metadata": {},
   "outputs": [],
   "source": [
    "free_agents_17df.rename(columns=col_names_dict,inplace=True)"
   ]
  },
  {
   "cell_type": "code",
   "execution_count": 49,
   "metadata": {},
   "outputs": [],
   "source": [
    "#Last Step - Add Free Agent Year as Column\n",
    "free_agents_17df[\"FA_YEAR\"]=\"2017\""
   ]
  },
  {
   "cell_type": "code",
   "execution_count": 51,
   "metadata": {},
   "outputs": [
    {
     "data": {
      "text/html": [
       "<div>\n",
       "<style scoped>\n",
       "    .dataframe tbody tr th:only-of-type {\n",
       "        vertical-align: middle;\n",
       "    }\n",
       "\n",
       "    .dataframe tbody tr th {\n",
       "        vertical-align: top;\n",
       "    }\n",
       "\n",
       "    .dataframe thead th {\n",
       "        text-align: right;\n",
       "    }\n",
       "</style>\n",
       "<table border=\"1\" class=\"dataframe\">\n",
       "  <thead>\n",
       "    <tr style=\"text-align: right;\">\n",
       "      <th></th>\n",
       "      <th>PLAYER</th>\n",
       "      <th>POS</th>\n",
       "      <th>AGE</th>\n",
       "      <th>STATUS</th>\n",
       "      <th>OLD_TEAM</th>\n",
       "      <th>NEW_TEAM</th>\n",
       "      <th>YRS</th>\n",
       "      <th>RK</th>\n",
       "      <th>DOLLARS</th>\n",
       "      <th>FA_YEAR</th>\n",
       "    </tr>\n",
       "  </thead>\n",
       "  <tbody>\n",
       "    <tr>\n",
       "      <th>0</th>\n",
       "      <td>Eric Hosmer</td>\n",
       "      <td>1B</td>\n",
       "      <td>28</td>\n",
       "      <td>Signed</td>\n",
       "      <td>Royals</td>\n",
       "      <td>Padres</td>\n",
       "      <td>8</td>\n",
       "      <td>7</td>\n",
       "      <td>$144,000,000</td>\n",
       "      <td>2017</td>\n",
       "    </tr>\n",
       "    <tr>\n",
       "      <th>1</th>\n",
       "      <td>Yu Darvish</td>\n",
       "      <td>SP</td>\n",
       "      <td>31</td>\n",
       "      <td>Signed</td>\n",
       "      <td>Dodgers</td>\n",
       "      <td>Cubs</td>\n",
       "      <td>6</td>\n",
       "      <td>1</td>\n",
       "      <td>$126,000,000</td>\n",
       "      <td>2017</td>\n",
       "    </tr>\n",
       "    <tr>\n",
       "      <th>2</th>\n",
       "      <td>J.D. Martinez</td>\n",
       "      <td>RF</td>\n",
       "      <td>30</td>\n",
       "      <td>Signed</td>\n",
       "      <td>Diamondbacks</td>\n",
       "      <td>Red Sox</td>\n",
       "      <td>5</td>\n",
       "      <td>6</td>\n",
       "      <td>$110,000,000</td>\n",
       "      <td>2017</td>\n",
       "    </tr>\n",
       "    <tr>\n",
       "      <th>3</th>\n",
       "      <td>Lorenzo Cain</td>\n",
       "      <td>CF</td>\n",
       "      <td>32</td>\n",
       "      <td>Signed</td>\n",
       "      <td>Royals</td>\n",
       "      <td>Brewers</td>\n",
       "      <td>5</td>\n",
       "      <td>2</td>\n",
       "      <td>$80,000,000</td>\n",
       "      <td>2017</td>\n",
       "    </tr>\n",
       "    <tr>\n",
       "      <th>4</th>\n",
       "      <td>Jake Arrieta</td>\n",
       "      <td>SP</td>\n",
       "      <td>32</td>\n",
       "      <td>Signed</td>\n",
       "      <td>Cubs</td>\n",
       "      <td>Phillies</td>\n",
       "      <td>3</td>\n",
       "      <td>4</td>\n",
       "      <td>$75,000,000</td>\n",
       "      <td>2017</td>\n",
       "    </tr>\n",
       "  </tbody>\n",
       "</table>\n",
       "</div>"
      ],
      "text/plain": [
       "          PLAYER POS AGE  STATUS      OLD_TEAM  NEW_TEAM YRS RK       DOLLARS  \\\n",
       "0    Eric Hosmer  1B  28  Signed        Royals    Padres   8  7  $144,000,000   \n",
       "1     Yu Darvish  SP  31  Signed       Dodgers      Cubs   6  1  $126,000,000   \n",
       "2  J.D. Martinez  RF  30  Signed  Diamondbacks   Red Sox   5  6  $110,000,000   \n",
       "3   Lorenzo Cain  CF  32  Signed        Royals   Brewers   5  2   $80,000,000   \n",
       "4   Jake Arrieta  SP  32  Signed          Cubs  Phillies   3  4   $75,000,000   \n",
       "\n",
       "  FA_YEAR  \n",
       "0    2017  \n",
       "1    2017  \n",
       "2    2017  \n",
       "3    2017  \n",
       "4    2017  "
      ]
     },
     "execution_count": 51,
     "metadata": {},
     "output_type": "execute_result"
    }
   ],
   "source": [
    "free_agents_17df.head()"
   ]
  },
  {
   "cell_type": "code",
   "execution_count": 52,
   "metadata": {},
   "outputs": [
    {
     "data": {
      "text/html": [
       "<div>\n",
       "<style scoped>\n",
       "    .dataframe tbody tr th:only-of-type {\n",
       "        vertical-align: middle;\n",
       "    }\n",
       "\n",
       "    .dataframe tbody tr th {\n",
       "        vertical-align: top;\n",
       "    }\n",
       "\n",
       "    .dataframe thead th {\n",
       "        text-align: right;\n",
       "    }\n",
       "</style>\n",
       "<table border=\"1\" class=\"dataframe\">\n",
       "  <thead>\n",
       "    <tr style=\"text-align: right;\">\n",
       "      <th></th>\n",
       "      <th>PLAYER</th>\n",
       "      <th>POS</th>\n",
       "      <th>AGE</th>\n",
       "      <th>STATUS</th>\n",
       "      <th>OLD_TEAM</th>\n",
       "      <th>NEW_TEAM</th>\n",
       "      <th>YRS</th>\n",
       "      <th>RK</th>\n",
       "      <th>DOLLARS</th>\n",
       "      <th>FA_YEAR</th>\n",
       "    </tr>\n",
       "  </thead>\n",
       "  <tbody>\n",
       "    <tr>\n",
       "      <th>0</th>\n",
       "      <td>Eric Hosmer</td>\n",
       "      <td>1B</td>\n",
       "      <td>28</td>\n",
       "      <td>Signed</td>\n",
       "      <td>Royals</td>\n",
       "      <td>Padres</td>\n",
       "      <td>8</td>\n",
       "      <td>7</td>\n",
       "      <td>014400000000</td>\n",
       "      <td>2017</td>\n",
       "    </tr>\n",
       "    <tr>\n",
       "      <th>1</th>\n",
       "      <td>Yu Darvish</td>\n",
       "      <td>SP</td>\n",
       "      <td>31</td>\n",
       "      <td>Signed</td>\n",
       "      <td>Dodgers</td>\n",
       "      <td>Cubs</td>\n",
       "      <td>6</td>\n",
       "      <td>1</td>\n",
       "      <td>012600000000</td>\n",
       "      <td>2017</td>\n",
       "    </tr>\n",
       "    <tr>\n",
       "      <th>2</th>\n",
       "      <td>J.D. Martinez</td>\n",
       "      <td>RF</td>\n",
       "      <td>30</td>\n",
       "      <td>Signed</td>\n",
       "      <td>Diamondbacks</td>\n",
       "      <td>Red Sox</td>\n",
       "      <td>5</td>\n",
       "      <td>6</td>\n",
       "      <td>011000000000</td>\n",
       "      <td>2017</td>\n",
       "    </tr>\n",
       "    <tr>\n",
       "      <th>3</th>\n",
       "      <td>Lorenzo Cain</td>\n",
       "      <td>CF</td>\n",
       "      <td>32</td>\n",
       "      <td>Signed</td>\n",
       "      <td>Royals</td>\n",
       "      <td>Brewers</td>\n",
       "      <td>5</td>\n",
       "      <td>2</td>\n",
       "      <td>08000000000</td>\n",
       "      <td>2017</td>\n",
       "    </tr>\n",
       "    <tr>\n",
       "      <th>4</th>\n",
       "      <td>Jake Arrieta</td>\n",
       "      <td>SP</td>\n",
       "      <td>32</td>\n",
       "      <td>Signed</td>\n",
       "      <td>Cubs</td>\n",
       "      <td>Phillies</td>\n",
       "      <td>3</td>\n",
       "      <td>4</td>\n",
       "      <td>07500000000</td>\n",
       "      <td>2017</td>\n",
       "    </tr>\n",
       "  </tbody>\n",
       "</table>\n",
       "</div>"
      ],
      "text/plain": [
       "          PLAYER POS AGE  STATUS      OLD_TEAM  NEW_TEAM YRS RK       DOLLARS  \\\n",
       "0    Eric Hosmer  1B  28  Signed        Royals    Padres   8  7  014400000000   \n",
       "1     Yu Darvish  SP  31  Signed       Dodgers      Cubs   6  1  012600000000   \n",
       "2  J.D. Martinez  RF  30  Signed  Diamondbacks   Red Sox   5  6  011000000000   \n",
       "3   Lorenzo Cain  CF  32  Signed        Royals   Brewers   5  2   08000000000   \n",
       "4   Jake Arrieta  SP  32  Signed          Cubs  Phillies   3  4   07500000000   \n",
       "\n",
       "  FA_YEAR  \n",
       "0    2017  \n",
       "1    2017  \n",
       "2    2017  \n",
       "3    2017  \n",
       "4    2017  "
      ]
     },
     "execution_count": 52,
     "metadata": {},
     "output_type": "execute_result"
    }
   ],
   "source": [
    "#Clean Up DOLLARS column from dashes, commas and $ signs\n",
    "\n",
    "free_agents_17df[\"DOLLARS\"] = free_agents_17df[\"DOLLARS\"].str.replace(r'\\D','0')\n",
    "\n",
    "free_agents_17df.head()"
   ]
  },
  {
   "cell_type": "code",
   "execution_count": 54,
   "metadata": {},
   "outputs": [],
   "source": [
    "#Convert Numeric columns to numbers\n",
    "\n",
    "num_cols = [\"DOLLARS\",\"AGE\",\"YRS\",\"FA_YEAR\"]\n",
    "for col in num_cols:\n",
    "    free_agents_17df[col]=\\\n",
    "    pd.to_numeric(free_agents_17df[col])"
   ]
  },
  {
   "cell_type": "code",
   "execution_count": 55,
   "metadata": {},
   "outputs": [
    {
     "data": {
      "text/plain": [
       "PLAYER       object\n",
       "POS          object\n",
       "AGE           int64\n",
       "STATUS       object\n",
       "OLD_TEAM     object\n",
       "NEW_TEAM     object\n",
       "YRS         float64\n",
       "RK           object\n",
       "DOLLARS       int64\n",
       "FA_YEAR       int64\n",
       "dtype: object"
      ]
     },
     "execution_count": 55,
     "metadata": {},
     "output_type": "execute_result"
    }
   ],
   "source": [
    "free_agents_17df.dtypes"
   ]
  },
  {
   "cell_type": "markdown",
   "metadata": {},
   "source": [
    "## ESPN FREE AGENT DATA HAS BEEN GRABBED + CLEANED\n",
    "next step with this is to build script to grab multiple years of this data\n"
   ]
  },
  {
   "cell_type": "code",
   "execution_count": null,
   "metadata": {},
   "outputs": [],
   "source": []
  }
 ],
 "metadata": {
  "kernelspec": {
   "display_name": "Python 3",
   "language": "python",
   "name": "python3"
  },
  "language_info": {
   "codemirror_mode": {
    "name": "ipython",
    "version": 3
   },
   "file_extension": ".py",
   "mimetype": "text/x-python",
   "name": "python",
   "nbconvert_exporter": "python",
   "pygments_lexer": "ipython3",
   "version": "3.6.4"
  }
 },
 "nbformat": 4,
 "nbformat_minor": 2
}
